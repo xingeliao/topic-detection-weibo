{
 "cells": [
  {
   "cell_type": "code",
   "execution_count": 7,
   "metadata": {},
   "outputs": [
    {
     "data": {
      "text/html": [
       "<div>\n",
       "<style scoped>\n",
       "    .dataframe tbody tr th:only-of-type {\n",
       "        vertical-align: middle;\n",
       "    }\n",
       "\n",
       "    .dataframe tbody tr th {\n",
       "        vertical-align: top;\n",
       "    }\n",
       "\n",
       "    .dataframe thead th {\n",
       "        text-align: right;\n",
       "    }\n",
       "</style>\n",
       "<table border=\"1\" class=\"dataframe\">\n",
       "  <thead>\n",
       "    <tr style=\"text-align: right;\">\n",
       "      <th></th>\n",
       "      <th>USER</th>\n",
       "      <th>CONTENT</th>\n",
       "      <th>DATE &amp; TIME</th>\n",
       "      <th>COMMENTS</th>\n",
       "      <th>LIKES</th>\n",
       "      <th>LOCATION</th>\n",
       "      <th>YEAR</th>\n",
       "      <th>MONTH</th>\n",
       "      <th>DAY</th>\n",
       "      <th>TIME</th>\n",
       "      <th>YEARMONTH</th>\n",
       "      <th>Flag</th>\n",
       "      <th>temp</th>\n",
       "    </tr>\n",
       "  </thead>\n",
       "  <tbody>\n",
       "    <tr>\n",
       "      <th>0</th>\n",
       "      <td>一只ttttooomato子子</td>\n",
       "      <td>first day还没完工的圣家堂门口高迪设计的米拉之家咸到爆炸的海鲜饭三个人不是聋了就是瞎...</td>\n",
       "      <td>2017年07月31日 18:25</td>\n",
       "      <td>评论 6</td>\n",
       "      <td>3</td>\n",
       "      <td>西班牙</td>\n",
       "      <td>2017</td>\n",
       "      <td>7</td>\n",
       "      <td>31</td>\n",
       "      <td>18:25</td>\n",
       "      <td>201707</td>\n",
       "      <td>1</td>\n",
       "      <td>0.100000</td>\n",
       "    </tr>\n",
       "    <tr>\n",
       "      <th>1</th>\n",
       "      <td>天蓝007828</td>\n",
       "      <td>今天的收获不仅有药妆，更多的是进入圣家堂后的震撼就是因为高迪作品的吸引，选择了来西班牙旅游 ...</td>\n",
       "      <td>2017年07月31日 06:08</td>\n",
       "      <td>评论 3</td>\n",
       "      <td>2</td>\n",
       "      <td>西班牙·巴塞罗那</td>\n",
       "      <td>2017</td>\n",
       "      <td>7</td>\n",
       "      <td>31</td>\n",
       "      <td>06:08</td>\n",
       "      <td>201707</td>\n",
       "      <td>2</td>\n",
       "      <td>0.088235</td>\n",
       "    </tr>\n",
       "    <tr>\n",
       "      <th>2</th>\n",
       "      <td>不二言四</td>\n",
       "      <td>高迪的建筑让我认清了一个事实：我是真的恐高，之前在Casa batilló的屋顶是这样，圣家...</td>\n",
       "      <td>2017年07月31日 00:29</td>\n",
       "      <td>评论 3</td>\n",
       "      <td></td>\n",
       "      <td>西班牙·米拉之家</td>\n",
       "      <td>2017</td>\n",
       "      <td>7</td>\n",
       "      <td>31</td>\n",
       "      <td>00:29</td>\n",
       "      <td>201707</td>\n",
       "      <td>3</td>\n",
       "      <td>0.038961</td>\n",
       "    </tr>\n",
       "    <tr>\n",
       "      <th>3</th>\n",
       "      <td>GPA1217</td>\n",
       "      <td>安东尼·高迪认为“直线属于人类，曲线属于上帝”，他还说“太阳是最好的画家”，所以他的观念也造...</td>\n",
       "      <td>2017年07月31日 00:28</td>\n",
       "      <td>评论</td>\n",
       "      <td>2</td>\n",
       "      <td>西班牙·巴塞罗那</td>\n",
       "      <td>2017</td>\n",
       "      <td>7</td>\n",
       "      <td>31</td>\n",
       "      <td>00:28</td>\n",
       "      <td>201707</td>\n",
       "      <td>4</td>\n",
       "      <td>0.039735</td>\n",
       "    </tr>\n",
       "    <tr>\n",
       "      <th>4</th>\n",
       "      <td>-三十六-</td>\n",
       "      <td>目前看过的觉得最好看的教堂……可以超过圣家堂大教堂了 2俄罗斯·滴血大教堂 ​</td>\n",
       "      <td>2017年07月30日 23:24</td>\n",
       "      <td>评论 4</td>\n",
       "      <td>4</td>\n",
       "      <td>俄罗斯·滴血大教堂</td>\n",
       "      <td>2017</td>\n",
       "      <td>7</td>\n",
       "      <td>30</td>\n",
       "      <td>23:24</td>\n",
       "      <td>201707</td>\n",
       "      <td>5</td>\n",
       "      <td>0.120000</td>\n",
       "    </tr>\n",
       "    <tr>\n",
       "      <th>...</th>\n",
       "      <td>...</td>\n",
       "      <td>...</td>\n",
       "      <td>...</td>\n",
       "      <td>...</td>\n",
       "      <td>...</td>\n",
       "      <td>...</td>\n",
       "      <td>...</td>\n",
       "      <td>...</td>\n",
       "      <td>...</td>\n",
       "      <td>...</td>\n",
       "      <td>...</td>\n",
       "      <td>...</td>\n",
       "      <td>...</td>\n",
       "    </tr>\n",
       "    <tr>\n",
       "      <th>42111</th>\n",
       "      <td>清墨Mia</td>\n",
       "      <td>巴塞罗那的斜阳。#不止旅行##带着微博去旅行##旅游vlog# ​</td>\n",
       "      <td>2020年12月01日 11:56</td>\n",
       "      <td>评论 33</td>\n",
       "      <td>34</td>\n",
       "      <td>NaN</td>\n",
       "      <td>2020</td>\n",
       "      <td>12</td>\n",
       "      <td>1</td>\n",
       "      <td>11:56</td>\n",
       "      <td>202012</td>\n",
       "      <td>168</td>\n",
       "      <td>0.160000</td>\n",
       "    </tr>\n",
       "    <tr>\n",
       "      <th>42112</th>\n",
       "      <td>星星仙女Mia</td>\n",
       "      <td>巴塞罗那大约是强制症病人非常稀饭的都会了#全球旅游攻略##365个旅行故事##旅游攻略# ​</td>\n",
       "      <td>2020年12月01日 04:51</td>\n",
       "      <td>评论 49</td>\n",
       "      <td>29</td>\n",
       "      <td>NaN</td>\n",
       "      <td>2020</td>\n",
       "      <td>12</td>\n",
       "      <td>1</td>\n",
       "      <td>04:51</td>\n",
       "      <td>202012</td>\n",
       "      <td>171</td>\n",
       "      <td>0.098160</td>\n",
       "    </tr>\n",
       "    <tr>\n",
       "      <th>42113</th>\n",
       "      <td>不正国乚</td>\n",
       "      <td>2苏州·宝林专业烧烤(依福园路店)，蒙托克山是巴塞罗那的“绿色吸尘器”，是人们每天参观的地方...</td>\n",
       "      <td>2020年12月01日 04:35</td>\n",
       "      <td>评论 1</td>\n",
       "      <td></td>\n",
       "      <td>苏州·宝林专业烧烤(依福园路店)苏州·宝林专业烧烤(依福园路店)</td>\n",
       "      <td>2020</td>\n",
       "      <td>12</td>\n",
       "      <td>1</td>\n",
       "      <td>04:35</td>\n",
       "      <td>202012</td>\n",
       "      <td>172</td>\n",
       "      <td>0.072289</td>\n",
       "    </tr>\n",
       "    <tr>\n",
       "      <th>42114</th>\n",
       "      <td>YH-L热爱旅游生活</td>\n",
       "      <td>我们沿着palamós 小镇的camino de ronda 徒步行走。走过一个个美丽的海边...</td>\n",
       "      <td>2020年12月01日 04:12</td>\n",
       "      <td>评论</td>\n",
       "      <td>4</td>\n",
       "      <td>西班牙·赫罗纳</td>\n",
       "      <td>2020</td>\n",
       "      <td>12</td>\n",
       "      <td>1</td>\n",
       "      <td>04:12</td>\n",
       "      <td>202012</td>\n",
       "      <td>173</td>\n",
       "      <td>0.175325</td>\n",
       "    </tr>\n",
       "    <tr>\n",
       "      <th>42115</th>\n",
       "      <td>URKALIAGROUP-西班牙移民房产</td>\n",
       "      <td>西班牙旅游巴塞罗那#西班牙疫情# #西班牙#Catalunya estudia que ...</td>\n",
       "      <td>2020年12月01日 00:00</td>\n",
       "      <td>评论 1</td>\n",
       "      <td></td>\n",
       "      <td>NaN</td>\n",
       "      <td>2020</td>\n",
       "      <td>12</td>\n",
       "      <td>1</td>\n",
       "      <td>00:00</td>\n",
       "      <td>202012</td>\n",
       "      <td>174</td>\n",
       "      <td>1.000000</td>\n",
       "    </tr>\n",
       "  </tbody>\n",
       "</table>\n",
       "<p>42116 rows × 13 columns</p>\n",
       "</div>"
      ],
      "text/plain": [
       "                       USER  \\\n",
       "0           一只ttttooomato子子   \n",
       "1                  天蓝007828   \n",
       "2                      不二言四   \n",
       "3                   GPA1217   \n",
       "4                     -三十六-   \n",
       "...                     ...   \n",
       "42111                 清墨Mia   \n",
       "42112               星星仙女Mia   \n",
       "42113                  不正国乚   \n",
       "42114            YH-L热爱旅游生活   \n",
       "42115  URKALIAGROUP-西班牙移民房产   \n",
       "\n",
       "                                                 CONTENT        DATE & TIME  \\\n",
       "0      first day还没完工的圣家堂门口高迪设计的米拉之家咸到爆炸的海鲜饭三个人不是聋了就是瞎...  2017年07月31日 18:25   \n",
       "1      今天的收获不仅有药妆，更多的是进入圣家堂后的震撼就是因为高迪作品的吸引，选择了来西班牙旅游 ...  2017年07月31日 06:08   \n",
       "2      高迪的建筑让我认清了一个事实：我是真的恐高，之前在Casa batilló的屋顶是这样，圣家...  2017年07月31日 00:29   \n",
       "3      安东尼·高迪认为“直线属于人类，曲线属于上帝”，他还说“太阳是最好的画家”，所以他的观念也造...  2017年07月31日 00:28   \n",
       "4                目前看过的觉得最好看的教堂……可以超过圣家堂大教堂了 2俄罗斯·滴血大教堂 ​  2017年07月30日 23:24   \n",
       "...                                                  ...                ...   \n",
       "42111                  巴塞罗那的斜阳。#不止旅行##带着微博去旅行##旅游vlog# ​  2020年12月01日 11:56   \n",
       "42112     巴塞罗那大约是强制症病人非常稀饭的都会了#全球旅游攻略##365个旅行故事##旅游攻略# ​  2020年12月01日 04:51   \n",
       "42113  2苏州·宝林专业烧烤(依福园路店)，蒙托克山是巴塞罗那的“绿色吸尘器”，是人们每天参观的地方...  2020年12月01日 04:35   \n",
       "42114  我们沿着palamós 小镇的camino de ronda 徒步行走。走过一个个美丽的海边...  2020年12月01日 04:12   \n",
       "42115  西班牙旅游巴塞罗那#西班牙疫情# #西班牙#Catalunya estudia que ...  2020年12月01日 00:00   \n",
       "\n",
       "      COMMENTS LIKES                          LOCATION  YEAR  MONTH  DAY  \\\n",
       "0         评论 6     3                               西班牙  2017      7   31   \n",
       "1         评论 3     2                          西班牙·巴塞罗那  2017      7   31   \n",
       "2         评论 3                                西班牙·米拉之家  2017      7   31   \n",
       "3          评论      2                          西班牙·巴塞罗那  2017      7   31   \n",
       "4         评论 4     4                         俄罗斯·滴血大教堂  2017      7   30   \n",
       "...        ...   ...                               ...   ...    ...  ...   \n",
       "42111    评论 33    34                               NaN  2020     12    1   \n",
       "42112    评论 49    29                               NaN  2020     12    1   \n",
       "42113     评论 1        苏州·宝林专业烧烤(依福园路店)苏州·宝林专业烧烤(依福园路店)  2020     12    1   \n",
       "42114      评论      4                           西班牙·赫罗纳  2020     12    1   \n",
       "42115     评论 1                                     NaN  2020     12    1   \n",
       "\n",
       "        TIME  YEARMONTH  Flag      temp  \n",
       "0      18:25     201707     1  0.100000  \n",
       "1      06:08     201707     2  0.088235  \n",
       "2      00:29     201707     3  0.038961  \n",
       "3      00:28     201707     4  0.039735  \n",
       "4      23:24     201707     5  0.120000  \n",
       "...      ...        ...   ...       ...  \n",
       "42111  11:56     202012   168  0.160000  \n",
       "42112  04:51     202012   171  0.098160  \n",
       "42113  04:35     202012   172  0.072289  \n",
       "42114  04:12     202012   173  0.175325  \n",
       "42115  00:00     202012   174  1.000000  \n",
       "\n",
       "[42116 rows x 13 columns]"
      ]
     },
     "execution_count": 7,
     "metadata": {},
     "output_type": "execute_result"
    }
   ],
   "source": [
    "import csv\n",
    "import pandas as pd\n",
    "import numpy as np\n",
    "import glob\n",
    "\n",
    "sagrada_clean_dataset = pd.read_csv(r'clean_dataset\\sagrada_clean_dataset.csv', encoding='utf-8',index_col=0)\n",
    "mila_clean_dataset = pd.read_csv(r'clean_dataset\\mila_clean_dataset.csv', encoding='utf-8',index_col=0)\n",
    "parkguell_clean_dataset = pd.read_csv(r'clean_dataset\\parkguell_clean_dataset.csv', encoding='utf-8',index_col=0)\n",
    "batllo_clean_dataset = pd.read_csv(r'clean_dataset\\batllo_clean_dataset.csv', encoding='utf-8',index_col=0)\n",
    "bcn_clean_dataset = pd.read_csv(r'clean_dataset\\bcndata_clean_dataset.csv', encoding='utf-8',index_col=0)\n",
    "\n",
    "alldata = pd.concat((sagrada_clean_dataset, mila_clean_dataset, parkguell_clean_dataset, batllo_clean_dataset,bcn_clean_dataset) ,ignore_index=True)\n",
    "alldata"
   ]
  },
  {
   "cell_type": "code",
   "execution_count": 2,
   "metadata": {},
   "outputs": [],
   "source": [
    "def is_official(user):\n",
    "    official_words = ['导游','旅行社','旅行','猫途鹰','巴特罗之家','摄影','酒店','房地产','国家展览','资讯','地接','包车','接待','代购','攻略','旅游网','加泰罗尼亚旅游官网','旅拍','有限公司']\n",
    "    for official_word in official_words:\n",
    "        if official_word in str(user):\n",
    "            return True\n",
    "    return False"
   ]
  },
  {
   "cell_type": "code",
   "execution_count": 3,
   "metadata": {},
   "outputs": [
    {
     "name": "stderr",
     "output_type": "stream",
     "text": [
      "<ipython-input-3-44a049064391>:4: SettingWithCopyWarning: \n",
      "A value is trying to be set on a copy of a slice from a DataFrame.\n",
      "Try using .loc[row_indexer,col_indexer] = value instead\n",
      "\n",
      "See the caveats in the documentation: https://pandas.pydata.org/pandas-docs/stable/user_guide/indexing.html#returning-a-view-versus-a-copy\n",
      "  no_oficial['iflocation'] = ['yes' if '西班牙' in str(x) else None for x in no_oficial['LOCATION']]\n"
     ]
    }
   ],
   "source": [
    "alldata['ifoficial'] = ['yes' if is_official(user) else None for user in alldata['USER']]\n",
    "image_ofi = alldata.dropna(subset = ['ifoficial'])\n",
    "no_oficial = alldata[alldata['ifoficial'] != 'yes']\n",
    "no_oficial['iflocation'] = ['yes' if '西班牙' in str(x) else None for x in no_oficial['LOCATION']]\n",
    "image_perci = no_oficial.dropna(subset = ['iflocation'])\n",
    "no_oficial_no_location = no_oficial[no_oficial['iflocation'] != 'yes']\n",
    "image_expect = no_oficial_no_location"
   ]
  },
  {
   "cell_type": "code",
   "execution_count": 4,
   "metadata": {},
   "outputs": [],
   "source": [
    "%run -i weibo_chinese_word_segmentation.py"
   ]
  },
  {
   "cell_type": "code",
   "execution_count": 5,
   "metadata": {},
   "outputs": [],
   "source": [
    "%run -i topic_modeling.py"
   ]
  },
  {
   "cell_type": "code",
   "execution_count": 6,
   "metadata": {},
   "outputs": [
    {
     "name": "stderr",
     "output_type": "stream",
     "text": [
      "Building prefix dict from the default dictionary ...\n",
      "Loading model from cache C:\\Users\\Isa\\AppData\\Local\\Temp\\jieba.cache\n",
      "Loading model cost 0.858 seconds.\n",
      "Prefix dict has been built successfully.\n",
      "<ipython-input-6-5e0ae6c0dce3>:1: SettingWithCopyWarning: \n",
      "A value is trying to be set on a copy of a slice from a DataFrame.\n",
      "Try using .loc[row_indexer,col_indexer] = value instead\n",
      "\n",
      "See the caveats in the documentation: https://pandas.pydata.org/pandas-docs/stable/user_guide/indexing.html#returning-a-view-versus-a-copy\n",
      "  image_ofi[\"content_cutted\"] = image_ofi['CONTENT'].apply(chinese_word_segmentation)\n"
     ]
    }
   ],
   "source": [
    "image_ofi[\"content_cutted\"] = image_ofi['CONTENT'].apply(chinese_word_segmentation)"
   ]
  },
  {
   "cell_type": "code",
   "execution_count": 22,
   "metadata": {},
   "outputs": [
    {
     "name": "stdout",
     "output_type": "stream",
     "text": [
      "LatentDirichletAllocation(max_iter=50, n_components=4)\n",
      "Topic #0:\n",
      "旅拍 摄影 加泰罗尼亚 视频 欧洲 婚纱 拍摄 婚纱照 照片 公园 摄影师 米拉之家 官网 酒店 婚礼 海外 喜欢 餐厅 推荐 时间 小伙伴 游客 音乐 美好 小时 导游 错过 国家旅游局 门票 魔幻 地方 巴特罗 世界 订制 服务 分享 提供 享受 爱情 参观 城市 古埃尔 仲夏 一场 写真 桂尔 感受 旅途 最美 10\n",
      "\n",
      "Topic #1:\n",
      "西班牙语 资讯 世界 国家 城市 导游 文化 著名 中国 全球 视频 加泰罗尼亚 攻略 半岛 明珠 古迹 旅游胜地 伊比利亚 2019 专业 之称 免费 市场 包括 地中海 秘鲁 遍布 风光旖旎 定制 气候宜人 历史 10 国际 西语 足球 素有 移民 划算 目的地 汇总 优惠券 门槛 手机 上海 欧元 投资 cn 收集 红包 输入\n",
      "\n",
      "Topic #2:\n",
      "教堂 设计 米拉之家 世界 作品 公园 家族 艺术 位于 加泰罗尼亚 曲线 屋顶 建筑师 上帝 灵感 房子 参观 博物馆 大道 风格 直线 建造 内部 完工 色彩 人类 有人 世界遗产 奎尔公园 造型 立面 公寓 现代主义 玻璃 住宅 自然 著名 天才 古埃尔 烟囱 圣乔治 设计师 时间 格拉 私人 独特 联合国教科文组织 西亚 充满 视频\n",
      "\n",
      "Topic #3:\n",
      "城市 欧洲 马德里 攻略 自由 英国 景点 酒店 美食 巴黎 葡萄牙 生活 世界 奎尔公园 塞维利亚 艺术 海鲜 小镇 教堂 11 地方 大学 布拉 行程 里斯本 意大利 里尼 圣托 希腊 美丽 法国 米拉之家 国家 之旅 浪漫 地中海 广场 体验 大道 10 日本 城堡 皇宫 公园 海滩 选择 喜欢 适合 热情 历史\n",
      "\n"
     ]
    }
   ],
   "source": [
    "lda_topic_modeling(text = image_ofi[\"content_cutted\"],max_df_lda=0.2,min_df_lda=10, topics_number = 4, max_iter = 50)"
   ]
  },
  {
   "cell_type": "code",
   "execution_count": 7,
   "metadata": {},
   "outputs": [
    {
     "name": "stdout",
     "output_type": "stream",
     "text": [
      "LatentDirichletAllocation(max_iter=1000, n_components=4)\n",
      "Topic #0:\n",
      "教堂 设计 米拉之家 西班牙语 世界 作品 公园 资讯 家族 曲线 屋顶 上帝 位于 建筑师 参观 公寓 直线 房子 有人 建造 内部 完工 人类 巴特罗 色彩 艺术 大道 世界遗产 奎尔公园 立面 灵感 造型 风格 玻璃 住宅 时间 私人 梦幻 古埃尔 烟囱 加泰罗尼亚 国家 设计师 联合国教科文组织 自然 景点 建于 独特 公主 格拉\n",
      "\n",
      "Topic #1:\n",
      "城市 欧洲 酒店 艺术 马德里 视频 世界 全球 国家 生活 公园 博物馆 餐厅 美食 感受 游客 古埃尔 享受 小时 推荐 米拉之家 定制 市场 体验 时间 文化 足球 中国 拥有 美丽 广场 国际 服务 10 参观 海鲜 景点 吸引 浪漫 魔幻 海滩 充满 选择 风格 音乐 地方 历史 新浪 欣赏 门票\n",
      "\n",
      "Topic #2:\n",
      "加泰罗尼亚 视频 官网 地中海 著名 世界 导游 大道 伊比利亚 半岛 小伙伴 明珠 攻略 古迹 旅游胜地 之称 中国 现代主义 遍布 风光旖旎 气候宜人 专业 微信 西语 历史 素有 免费 优惠券 手机 门槛 cn 收集 领取 2019 灵感 红包 淘宝 输入 大赛 划算 分享 天猫 新东方 无条件 17783 文章 风光 圣诞 分钟 浏览器\n",
      "\n",
      "Topic #3:\n",
      "旅拍 欧洲 摄影 攻略 婚纱 马德里 英国 拍摄 婚纱照 教堂 自由 照片 巴黎 喜欢 摄影师 葡萄牙 海外 导游 意大利 婚礼 景点 塞维利亚 里斯本 里尼 11 圣托 订制 巴塞 公园 希腊 城市 美好 最美 地方 奎尔公园 疫情 罗马 日本 分享 世界 旅途 皇宫 家族 私人 行程 法国 写真 法国巴黎 爱情 遇见\n",
      "\n"
     ]
    }
   ],
   "source": [
    "lda_topic_modeling(text = image_ofi[\"content_cutted\"],max_df_lda=0.2,min_df_lda=20, topics_number = 4, max_iter = 1000)"
   ]
  },
  {
   "cell_type": "code",
   "execution_count": 8,
   "metadata": {},
   "outputs": [
    {
     "name": "stdout",
     "output_type": "stream",
     "text": [
      "LatentDirichletAllocation(max_iter=1000, n_components=4)\n",
      "Topic #0:\n",
      "城市 马德里 欧洲 攻略 加泰罗尼亚 酒店 世界 导游 视频 中国 美食 生活 国家 英国 餐厅 景点 自由 10 葡萄牙 海鲜 行程 全球 时间 小镇 11 体验 小时 活动 大学 广场 推荐 塞维利亚 服务 喜欢 感受 小伙伴 享受 里斯本 国际 选择 12 之旅 布拉 深度 官网 游客 分享 定制 市场 秘鲁\n",
      "\n",
      "Topic #1:\n",
      "旅拍 欧洲 摄影 婚纱 视频 城市 拍摄 婚纱照 照片 公园 地方 摄影师 巴黎 海外 婚礼 浪漫 音乐 意大利 喜欢 美好 里尼 圣托 订制 魔幻 希腊 世界 罗马 教堂 最美 国家旅游局 自由 威尼斯 米拉之家 艺术 游客 仲夏 爱情 写真 法国巴黎 新浪 攻略 充满 一场 旅途 走进 拍照 古埃尔 景点 布拉格 路上\n",
      "\n",
      "Topic #2:\n",
      "西班牙语 加泰罗尼亚 世界 教堂 资讯 著名 文化 灵感 设计 位于 风格 视频 历史 艺术 地中海 家族 国家 半岛 明珠 古迹 伊比利亚 旅游胜地 有人 遍布 建设 攻略 圣乔治 风光旖旎 代表 建筑师 之称 气候宜人 免费 公主 素有 世界遗产 汇总 大师 包括 文化遗产 联合国教科文组织 建造 优惠券 门槛 景点 外墙 足球 手机 收集 领取\n",
      "\n",
      "Topic #3:\n",
      "米拉之家 教堂 设计 公园 参观 大道 作品 曲线 家族 上帝 古埃尔 屋顶 奎尔公园 艺术 博物馆 世界 直线 房子 公寓 私人 人类 立面 西亚 色彩 住宅 格拉 内部 自然 设计师 建筑师 现代主义 巴特罗 细节 充满 建造 特别 完工 位于 天才 风格 空间 时间 特色 巴特 光线 passeigdegr 烟囱 安东尼 马赛克 光影\n",
      "\n"
     ]
    }
   ],
   "source": [
    "lda_topic_modeling(text = image_ofi[\"content_cutted\"],max_df_lda=0.2,min_df_lda=10, topics_number = 4, max_iter = 1000)"
   ]
  },
  {
   "cell_type": "code",
   "execution_count": null,
   "metadata": {},
   "outputs": [],
   "source": []
  },
  {
   "cell_type": "code",
   "execution_count": null,
   "metadata": {},
   "outputs": [],
   "source": []
  },
  {
   "cell_type": "code",
   "execution_count": 14,
   "metadata": {},
   "outputs": [
    {
     "name": "stderr",
     "output_type": "stream",
     "text": [
      "Building prefix dict from the default dictionary ...\n",
      "Loading model from cache C:\\Users\\Isa\\AppData\\Local\\Temp\\jieba.cache\n",
      "Loading model cost 1.326 seconds.\n",
      "Prefix dict has been built successfully.\n",
      "<ipython-input-14-082e785d6952>:1: SettingWithCopyWarning: \n",
      "A value is trying to be set on a copy of a slice from a DataFrame.\n",
      "Try using .loc[row_indexer,col_indexer] = value instead\n",
      "\n",
      "See the caveats in the documentation: https://pandas.pydata.org/pandas-docs/stable/user_guide/indexing.html#returning-a-view-versus-a-copy\n",
      "  image_expect[\"content_cutted\"] = image_expect['CONTENT'].apply(chinese_word_segmentation)\n"
     ]
    }
   ],
   "source": [
    "image_expect[\"content_cutted\"] = image_expect['CONTENT'].apply(chinese_word_segmentation)"
   ]
  },
  {
   "cell_type": "code",
   "execution_count": 29,
   "metadata": {
    "scrolled": true
   },
   "outputs": [
    {
     "name": "stdout",
     "output_type": "stream",
     "text": [
      "LatentDirichletAllocation(max_iter=50, n_components=4)\n",
      "Topic #0:\n",
      "高迪 建筑 米拉之家 教堂 设计 圣家堂 巴特罗之家 西班牙 公园 世界 作品 古埃尔 家族 艺术 奎尔公园 建筑师 公寓 上帝 曲线 风格 天才 色彩 建造 城市 文化遗产 大师 屋顶 人类 位于 著名 直线 自然 巴特 巴特罗 参观 造型 安东尼 世界遗产 立面 灵感 米拉 马赛克 房子 未完工 住宅 列为 设计师 安东尼奥 充满 内部\n",
      "\n",
      "Topic #1:\n",
      "西班牙 旅游 城市 中国 世界 游客 足球 欧洲 巴黎 10 意大利 著名 上海 国家 法国 大学 全球 文化 发展 疫情 英国 2019 伦敦 新闻 北京 时间 国际 俱乐部 罗马 2018 伊比利亚 德国 12 半岛 地中海 欧元 旅游胜地 历史 经济 日本 中心 马德里 美国 明珠 目的地 发生 旅游业 11 13 地区\n",
      "\n",
      "Topic #2:\n",
      "西班牙 旅游 旅行 欧洲 视频 马德里 攻略 城市 奎尔公园 加泰罗尼亚 博物馆 酒店 美食 艺术 自由 葡萄牙 推荐 生活 地方 摄影 景点 巴萨 之旅 小镇 塞维利亚 海滩 世界 游记 海鲜 市场 国家旅游局 餐厅 体验 地中海 西班牙语 布拉 购物 热情 想去 里斯本 美丽 行程 球迷 新浪 球场 大道 打卡 分享 发现 感受\n",
      "\n",
      "Topic #3:\n",
      "圣家堂 喜欢 教堂 米拉之家 感觉 地方 巴特罗之家 照片 视频 希望 巴塞 绿洲 震撼 时间 特别 终于 发现 去过 好看 阳光 图片 朋友 医院 完工 好吃 第一次 门票 2026 晚上 打卡 记得 拍照 旁边 聖家堂 开心 两个 参观 好像 分享 机会 东西 下午 可爱 想起 手机 查看 小时 一点 哈哈哈 期待\n",
      "\n"
     ]
    }
   ],
   "source": [
    "lda_topic_modeling(text = image_expect[\"content_cutted\"],max_df_lda=0.5,min_df_lda=200, topics_number = 4, max_iter = 50)"
   ]
  },
  {
   "cell_type": "code",
   "execution_count": 28,
   "metadata": {},
   "outputs": [
    {
     "name": "stdout",
     "output_type": "stream",
     "text": [
      "LatentDirichletAllocation(max_iter=50, n_components=4)\n",
      "Topic #0:\n",
      "巴塞罗那 旅游 西班牙 欧洲 旅行 城市 马德里 酒店 巴黎 博物馆 意大利 法国 攻略 景点 自由 美食 地方 葡萄牙 10 上海 推荐 浪漫 海鲜 英国 伦敦 北京 塞维利亚 市场 罗马 餐厅 时间 12 医院 小镇 艺术 游记 体验 购物 日本 德国 海滩 发现 行程 之旅 想去 米兰 30 机场 里斯本 生活\n",
      "\n",
      "Topic #1:\n",
      "高迪 建筑 巴塞罗那 米拉之家 教堂 设计 西班牙 巴特罗之家 圣家堂 公园 奎尔公园 作品 世界 古埃尔 家族 艺术 建筑师 公寓 上帝 曲线 天才 风格 建造 色彩 城市 文化遗产 大师 旅行 屋顶 人类 位于 直线 自然 参观 巴特 充满 巴特罗 灵感 造型 著名 安东尼 世界遗产 立面 加泰罗尼亚 米拉 马赛克 房子 未完工 住宅 列为\n",
      "\n",
      "Topic #2:\n",
      "圣家堂 巴塞罗那 喜欢 教堂 米拉之家 感觉 照片 巴特罗之家 视频 地方 希望 巴塞 震撼 绿洲 阳光 特别 终于 图片 好看 完工 发现 2026 去过 朋友 时间 好吃 分享 记得 旁边 聖家堂 开心 第一次 打卡 好像 可爱 想起 期待 查看 手机 机会 美好 东西 哈哈哈 拍照 晚上 永远 老师 只能 超级 看着\n",
      "\n",
      "Topic #3:\n",
      "巴塞罗那 西班牙 旅游 旅行 城市 中国 世界 视频 游客 足球 著名 欧洲 加泰罗尼亚 巴萨 国家 全球 文化 大学 发展 疫情 地中海 新闻 俱乐部 国际 伊比利亚 摄影 新浪 2019 历史 半岛 国家旅游局 旅游胜地 经济 2018 马德里 西班牙语 目的地 攻略 时间 发生 旅游业 生活 明珠 地区 位于 球迷 之称 欧元 留学 影响\n",
      "\n"
     ]
    }
   ],
   "source": [
    "lda_topic_modeling(text = image_expect[\"content_cutted\"],max_df_lda=0.6,min_df_lda=200, topics_number = 4, max_iter = 50)"
   ]
  },
  {
   "cell_type": "code",
   "execution_count": null,
   "metadata": {},
   "outputs": [],
   "source": []
  },
  {
   "cell_type": "code",
   "execution_count": null,
   "metadata": {},
   "outputs": [],
   "source": []
  },
  {
   "cell_type": "code",
   "execution_count": null,
   "metadata": {},
   "outputs": [],
   "source": []
  }
 ],
 "metadata": {
  "kernelspec": {
   "display_name": "Python 3",
   "language": "python",
   "name": "python3"
  },
  "language_info": {
   "codemirror_mode": {
    "name": "ipython",
    "version": 3
   },
   "file_extension": ".py",
   "mimetype": "text/x-python",
   "name": "python",
   "nbconvert_exporter": "python",
   "pygments_lexer": "ipython3",
   "version": "3.8.3"
  }
 },
 "nbformat": 4,
 "nbformat_minor": 4
}
